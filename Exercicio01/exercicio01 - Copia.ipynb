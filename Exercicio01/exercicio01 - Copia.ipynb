{
 "cells": [
  {
   "cell_type": "markdown",
   "metadata": {},
   "source": [
    "#  <img src=\"uni7.jpg\",width=150,height=150>\n",
    "\n",
    "# <font color='green' >PROGRAMAÇÃO PARA DATA SCIENCE E DATA ANALYTICS</font>\n",
    "\n",
    "\n",
    "### <font color='blue'>Alunos: Ramsés Felipe de Oliveira e Dieison Rabêlo</font>\n"
   ]
  },
  {
   "cell_type": "markdown",
   "metadata": {},
   "source": [
    "## Exercicio 01"
   ]
  },
  {
   "cell_type": "markdown",
   "metadata": {},
   "source": [
    "O Sr. Jaime Diga adquiriu um sistema para tratar o volume alto de dados que possui distribuído nas quase duas mil filiais de sua empresa espalhadas pelo mundo. O sistema irá tratar dados de vendas divididos em um arquivo de formato CSV para cada filial.\n",
    "Os arquivos todos possuem um mesmo formato porém cada arquivo apresenta um tamanho diferente compatível com o volume de vendas da filial.\n",
    "\n",
    "A equipe de TI processou alguns arquivos para testar o sistema e fazer estimativas. Assim, pede-se que se faça uma projeção de consumo de recursos de memória e de tempo de execução a partir dos dados levantados durante a execução dos arquivos de testes.\n",
    "\n",
    "    "
   ]
  },
  {
   "cell_type": "markdown",
   "metadata": {},
   "source": [
    "### Informações dos datasets (dados-conhecidos e dados-projetar)\n",
    "\n",
    "1. file_size\n",
    "2. exec_time\n",
    "3. memory"
   ]
  },
  {
   "cell_type": "markdown",
   "metadata": {},
   "source": [
    "#### Carregando alguns dos pacotes que serão utilizados"
   ]
  },
  {
   "cell_type": "code",
   "execution_count": 1,
   "metadata": {
    "collapsed": true
   },
   "outputs": [],
   "source": [
    "import pandas as pd\n",
    "import numpy as np\n",
    "import matplotlib.pyplot as plt\n",
    "%matplotlib inline\n",
    "import seaborn as sea"
   ]
  },
  {
   "cell_type": "markdown",
   "metadata": {},
   "source": [
    "#### Carregando os datasets"
   ]
  },
  {
   "cell_type": "code",
   "execution_count": 2,
   "metadata": {
    "collapsed": false
   },
   "outputs": [
    {
     "name": "stdout",
     "output_type": "stream",
     "text": [
      "Shape dados-conhecidos:  (10, 3) Colunas:  ['file_size', 'exec_time', 'memory']\n",
      "\n",
      "Shape dados-Projetar:  (90, 3) Colunas:  ['file_size', 'exec_time', 'memory']\n"
     ]
    }
   ],
   "source": [
    "dados_conhecidos = pd.read_csv('dados-conhecidos.csv', sep=';' )\n",
    "colunas_dados_conhecidos = list(dados_conhecidos.columns) #transformei em lista para ficar melhor a forma de apresentação\n",
    "print(\"Shape dados-conhecidos: \", dados_conhecidos.shape, \"Colunas: \", colunas_dados_conhecidos)\n",
    "print()\n",
    "\n",
    "dados_projetar = pd.read_csv('dados-projetar.csv',sep=';')\n",
    "colunas_dados_projetar = list(dados_projetar.columns)\n",
    "print(\"Shape dados-Projetar: \", dados_projetar.shape, \"Colunas: \", colunas_dados_projetar)"
   ]
  },
  {
   "cell_type": "code",
   "execution_count": 3,
   "metadata": {
    "collapsed": false
   },
   "outputs": [
    {
     "name": "stdout",
     "output_type": "stream",
     "text": [
      "Dados Conhecidos\n"
     ]
    },
    {
     "data": {
      "text/html": [
       "<div>\n",
       "<style>\n",
       "    .dataframe thead tr:only-child th {\n",
       "        text-align: right;\n",
       "    }\n",
       "\n",
       "    .dataframe thead th {\n",
       "        text-align: left;\n",
       "    }\n",
       "\n",
       "    .dataframe tbody tr th {\n",
       "        vertical-align: top;\n",
       "    }\n",
       "</style>\n",
       "<table border=\"1\" class=\"dataframe\">\n",
       "  <thead>\n",
       "    <tr style=\"text-align: right;\">\n",
       "      <th></th>\n",
       "      <th>file_size</th>\n",
       "      <th>exec_time</th>\n",
       "      <th>memory</th>\n",
       "    </tr>\n",
       "  </thead>\n",
       "  <tbody>\n",
       "    <tr>\n",
       "      <th>0</th>\n",
       "      <td>0.97</td>\n",
       "      <td>29.99</td>\n",
       "      <td>5.93</td>\n",
       "    </tr>\n",
       "    <tr>\n",
       "      <th>1</th>\n",
       "      <td>1.12</td>\n",
       "      <td>43.24</td>\n",
       "      <td>8.22</td>\n",
       "    </tr>\n",
       "    <tr>\n",
       "      <th>2</th>\n",
       "      <td>1.25</td>\n",
       "      <td>46.70</td>\n",
       "      <td>12.89</td>\n",
       "    </tr>\n",
       "    <tr>\n",
       "      <th>3</th>\n",
       "      <td>1.54</td>\n",
       "      <td>60.18</td>\n",
       "      <td>22.86</td>\n",
       "    </tr>\n",
       "    <tr>\n",
       "      <th>4</th>\n",
       "      <td>1.58</td>\n",
       "      <td>64.42</td>\n",
       "      <td>23.27</td>\n",
       "    </tr>\n",
       "  </tbody>\n",
       "</table>\n",
       "</div>"
      ],
      "text/plain": [
       "   file_size  exec_time  memory\n",
       "0       0.97      29.99    5.93\n",
       "1       1.12      43.24    8.22\n",
       "2       1.25      46.70   12.89\n",
       "3       1.54      60.18   22.86\n",
       "4       1.58      64.42   23.27"
      ]
     },
     "execution_count": 3,
     "metadata": {},
     "output_type": "execute_result"
    }
   ],
   "source": [
    "print(\"Dados Conhecidos\")\n",
    "dados_conhecidos.head()"
   ]
  },
  {
   "cell_type": "code",
   "execution_count": 4,
   "metadata": {
    "collapsed": false
   },
   "outputs": [
    {
     "name": "stdout",
     "output_type": "stream",
     "text": [
      "Dados Projetar\n"
     ]
    },
    {
     "data": {
      "text/html": [
       "<div>\n",
       "<style>\n",
       "    .dataframe thead tr:only-child th {\n",
       "        text-align: right;\n",
       "    }\n",
       "\n",
       "    .dataframe thead th {\n",
       "        text-align: left;\n",
       "    }\n",
       "\n",
       "    .dataframe tbody tr th {\n",
       "        vertical-align: top;\n",
       "    }\n",
       "</style>\n",
       "<table border=\"1\" class=\"dataframe\">\n",
       "  <thead>\n",
       "    <tr style=\"text-align: right;\">\n",
       "      <th></th>\n",
       "      <th>file_size</th>\n",
       "      <th>exec_time</th>\n",
       "      <th>memory</th>\n",
       "    </tr>\n",
       "  </thead>\n",
       "  <tbody>\n",
       "    <tr>\n",
       "      <th>0</th>\n",
       "      <td>4.18</td>\n",
       "      <td>NaN</td>\n",
       "      <td>NaN</td>\n",
       "    </tr>\n",
       "    <tr>\n",
       "      <th>1</th>\n",
       "      <td>1.52</td>\n",
       "      <td>NaN</td>\n",
       "      <td>NaN</td>\n",
       "    </tr>\n",
       "    <tr>\n",
       "      <th>2</th>\n",
       "      <td>2.10</td>\n",
       "      <td>NaN</td>\n",
       "      <td>NaN</td>\n",
       "    </tr>\n",
       "    <tr>\n",
       "      <th>3</th>\n",
       "      <td>1.13</td>\n",
       "      <td>NaN</td>\n",
       "      <td>NaN</td>\n",
       "    </tr>\n",
       "    <tr>\n",
       "      <th>4</th>\n",
       "      <td>1.86</td>\n",
       "      <td>NaN</td>\n",
       "      <td>NaN</td>\n",
       "    </tr>\n",
       "  </tbody>\n",
       "</table>\n",
       "</div>"
      ],
      "text/plain": [
       "   file_size  exec_time  memory\n",
       "0       4.18        NaN     NaN\n",
       "1       1.52        NaN     NaN\n",
       "2       2.10        NaN     NaN\n",
       "3       1.13        NaN     NaN\n",
       "4       1.86        NaN     NaN"
      ]
     },
     "execution_count": 4,
     "metadata": {},
     "output_type": "execute_result"
    }
   ],
   "source": [
    "print(\"Dados Projetar\")\n",
    "dados_projetar.head()"
   ]
  },
  {
   "cell_type": "markdown",
   "metadata": {},
   "source": [
    "### Considerando que o objetivo deste exercicio é projetar o consumo de recursos de memória e de tempo de execução a partir dos dados levantados durante a execução dos arquivos de testes, vamos começar a realizar uma analise exploratoria do dataset \"Dados Conhecidos\""
   ]
  },
  {
   "cell_type": "code",
   "execution_count": 5,
   "metadata": {
    "collapsed": false
   },
   "outputs": [
    {
     "data": {
      "text/plain": [
       "file_size    float64\n",
       "exec_time    float64\n",
       "memory       float64\n",
       "dtype: object"
      ]
     },
     "execution_count": 5,
     "metadata": {},
     "output_type": "execute_result"
    }
   ],
   "source": [
    "dados_conhecidos.dtypes"
   ]
  },
  {
   "cell_type": "code",
   "execution_count": 6,
   "metadata": {
    "collapsed": false
   },
   "outputs": [
    {
     "data": {
      "text/html": [
       "<div>\n",
       "<style>\n",
       "    .dataframe thead tr:only-child th {\n",
       "        text-align: right;\n",
       "    }\n",
       "\n",
       "    .dataframe thead th {\n",
       "        text-align: left;\n",
       "    }\n",
       "\n",
       "    .dataframe tbody tr th {\n",
       "        vertical-align: top;\n",
       "    }\n",
       "</style>\n",
       "<table border=\"1\" class=\"dataframe\">\n",
       "  <thead>\n",
       "    <tr style=\"text-align: right;\">\n",
       "      <th></th>\n",
       "      <th>file_size</th>\n",
       "      <th>exec_time</th>\n",
       "      <th>memory</th>\n",
       "    </tr>\n",
       "  </thead>\n",
       "  <tbody>\n",
       "    <tr>\n",
       "      <th>count</th>\n",
       "      <td>10.000000</td>\n",
       "      <td>10.000000</td>\n",
       "      <td>10.000000</td>\n",
       "    </tr>\n",
       "    <tr>\n",
       "      <th>mean</th>\n",
       "      <td>2.744000</td>\n",
       "      <td>92.238000</td>\n",
       "      <td>36.913000</td>\n",
       "    </tr>\n",
       "    <tr>\n",
       "      <th>std</th>\n",
       "      <td>2.577282</td>\n",
       "      <td>54.820871</td>\n",
       "      <td>35.423819</td>\n",
       "    </tr>\n",
       "    <tr>\n",
       "      <th>min</th>\n",
       "      <td>0.970000</td>\n",
       "      <td>29.990000</td>\n",
       "      <td>5.930000</td>\n",
       "    </tr>\n",
       "    <tr>\n",
       "      <th>25%</th>\n",
       "      <td>1.322500</td>\n",
       "      <td>50.070000</td>\n",
       "      <td>15.382500</td>\n",
       "    </tr>\n",
       "    <tr>\n",
       "      <th>50%</th>\n",
       "      <td>1.865000</td>\n",
       "      <td>82.270000</td>\n",
       "      <td>25.565000</td>\n",
       "    </tr>\n",
       "    <tr>\n",
       "      <th>75%</th>\n",
       "      <td>3.125000</td>\n",
       "      <td>124.377500</td>\n",
       "      <td>46.127500</td>\n",
       "    </tr>\n",
       "    <tr>\n",
       "      <th>max</th>\n",
       "      <td>9.650000</td>\n",
       "      <td>207.740000</td>\n",
       "      <td>127.110000</td>\n",
       "    </tr>\n",
       "  </tbody>\n",
       "</table>\n",
       "</div>"
      ],
      "text/plain": [
       "       file_size   exec_time      memory\n",
       "count  10.000000   10.000000   10.000000\n",
       "mean    2.744000   92.238000   36.913000\n",
       "std     2.577282   54.820871   35.423819\n",
       "min     0.970000   29.990000    5.930000\n",
       "25%     1.322500   50.070000   15.382500\n",
       "50%     1.865000   82.270000   25.565000\n",
       "75%     3.125000  124.377500   46.127500\n",
       "max     9.650000  207.740000  127.110000"
      ]
     },
     "execution_count": 6,
     "metadata": {},
     "output_type": "execute_result"
    }
   ],
   "source": [
    "dados_conhecidos.describe()"
   ]
  },
  {
   "cell_type": "code",
   "execution_count": 7,
   "metadata": {
    "collapsed": false
   },
   "outputs": [
    {
     "data": {
      "text/html": [
       "<div>\n",
       "<style>\n",
       "    .dataframe thead tr:only-child th {\n",
       "        text-align: right;\n",
       "    }\n",
       "\n",
       "    .dataframe thead th {\n",
       "        text-align: left;\n",
       "    }\n",
       "\n",
       "    .dataframe tbody tr th {\n",
       "        vertical-align: top;\n",
       "    }\n",
       "</style>\n",
       "<table border=\"1\" class=\"dataframe\">\n",
       "  <thead>\n",
       "    <tr style=\"text-align: right;\">\n",
       "      <th></th>\n",
       "      <th>file_size</th>\n",
       "      <th>exec_time</th>\n",
       "      <th>memory</th>\n",
       "    </tr>\n",
       "  </thead>\n",
       "  <tbody>\n",
       "    <tr>\n",
       "      <th>file_size</th>\n",
       "      <td>1.000000</td>\n",
       "      <td>0.920516</td>\n",
       "      <td>0.987907</td>\n",
       "    </tr>\n",
       "    <tr>\n",
       "      <th>exec_time</th>\n",
       "      <td>0.920516</td>\n",
       "      <td>1.000000</td>\n",
       "      <td>0.953387</td>\n",
       "    </tr>\n",
       "    <tr>\n",
       "      <th>memory</th>\n",
       "      <td>0.987907</td>\n",
       "      <td>0.953387</td>\n",
       "      <td>1.000000</td>\n",
       "    </tr>\n",
       "  </tbody>\n",
       "</table>\n",
       "</div>"
      ],
      "text/plain": [
       "           file_size  exec_time    memory\n",
       "file_size   1.000000   0.920516  0.987907\n",
       "exec_time   0.920516   1.000000  0.953387\n",
       "memory      0.987907   0.953387  1.000000"
      ]
     },
     "execution_count": 7,
     "metadata": {},
     "output_type": "execute_result"
    }
   ],
   "source": [
    "dados_conhecidos.corr(method = 'pearson')"
   ]
  },
  {
   "cell_type": "code",
   "execution_count": 8,
   "metadata": {
    "collapsed": false
   },
   "outputs": [
    {
     "data": {
      "text/plain": [
       "<seaborn.axisgrid.PairGrid at 0x13c0dd54898>"
      ]
     },
     "execution_count": 8,
     "metadata": {},
     "output_type": "execute_result"
    },
    {
     "data": {
      "image/png": "[encoded data removed]",
      "text/plain": [
       "<matplotlib.figure.Figure at 0x13c0dd548d0>"
      ]
     },
     "metadata": {},
     "output_type": "display_data"
    }
   ],
   "source": [
    "sea.pairplot(dados_conhecidos,diag_kind=\"kde\",palette=\"hls\")"
   ]
  },
  {
   "cell_type": "markdown",
   "metadata": {},
   "source": [
    "## Regressão Linear com Scikit-Learn"
   ]
  },
  {
   "cell_type": "code",
   "execution_count": 9,
   "metadata": {
    "collapsed": true
   },
   "outputs": [],
   "source": [
    "from sklearn import linear_model"
   ]
  },
  {
   "cell_type": "code",
   "execution_count": 10,
   "metadata": {
    "collapsed": true
   },
   "outputs": [],
   "source": [
    "# Cria o objeto\n",
    "modelo = linear_model.LinearRegression(normalize = False, fit_intercept = True) #para ser utilizado na predição do 'exec_time'\n",
    "modelo2 = linear_model.LinearRegression(normalize = False, fit_intercept = True) #para ser utilizado na predição do 'memory'"
   ]
  },
  {
   "cell_type": "code",
   "execution_count": 11,
   "metadata": {
    "collapsed": true
   },
   "outputs": [],
   "source": [
    "# Define os valores de x e y\n",
    "num_observ = len(dados_conhecidos)\n",
    "X = dados_conhecidos['file_size'].values.reshape((num_observ, 1)) # X deve sempre ser uma matriz e nunca um vetor\n",
    "y = dados_conhecidos['exec_time'].values # y pode ser um vetor"
   ]
  },
  {
   "cell_type": "code",
   "execution_count": 12,
   "metadata": {
    "collapsed": false
   },
   "outputs": [
    {
     "data": {
      "text/plain": [
       "LinearRegression(copy_X=True, fit_intercept=True, n_jobs=1, normalize=False)"
      ]
     },
     "execution_count": 12,
     "metadata": {},
     "output_type": "execute_result"
    }
   ],
   "source": [
    "# Aplica o modelo - fit()\n",
    "modelo.fit(X,y)"
   ]
  },
  {
   "cell_type": "code",
   "execution_count": 13,
   "metadata": {
    "collapsed": false
   },
   "outputs": [
    {
     "name": "stdout",
     "output_type": "stream",
     "text": [
      "[ 19.58011349]\n",
      "38.5101685741\n"
     ]
    }
   ],
   "source": [
    "# Imprime os coeficientes\n",
    "print (modelo.coef_)\n",
    "print (modelo.intercept_)"
   ]
  },
  {
   "cell_type": "code",
   "execution_count": 14,
   "metadata": {
    "collapsed": false
   },
   "outputs": [
    {
     "name": "stdout",
     "output_type": "stream",
     "text": [
      "[  57.50287866   60.43989569   62.98531044   68.66354335   69.44674789\n",
      "   80.60741258   85.89404323  104.29934991  105.08255445  227.45826379]\n"
     ]
    }
   ],
   "source": [
    "# Imprime as previsões\n",
    "valor_Previsto = modelo.predict(X)\n",
    "print (valor_Previsto)"
   ]
  },
  {
   "cell_type": "code",
   "execution_count": 15,
   "metadata": {
    "collapsed": false
   },
   "outputs": [
    {
     "data": {
      "text/html": [
       "<div>\n",
       "<style>\n",
       "    .dataframe thead tr:only-child th {\n",
       "        text-align: right;\n",
       "    }\n",
       "\n",
       "    .dataframe thead th {\n",
       "        text-align: left;\n",
       "    }\n",
       "\n",
       "    .dataframe tbody tr th {\n",
       "        vertical-align: top;\n",
       "    }\n",
       "</style>\n",
       "<table border=\"1\" class=\"dataframe\">\n",
       "  <thead>\n",
       "    <tr style=\"text-align: right;\">\n",
       "      <th></th>\n",
       "      <th>file_size</th>\n",
       "      <th>exec_time</th>\n",
       "      <th>memory</th>\n",
       "    </tr>\n",
       "  </thead>\n",
       "  <tbody>\n",
       "    <tr>\n",
       "      <th>0</th>\n",
       "      <td>0.97</td>\n",
       "      <td>29.99</td>\n",
       "      <td>5.93</td>\n",
       "    </tr>\n",
       "    <tr>\n",
       "      <th>1</th>\n",
       "      <td>1.12</td>\n",
       "      <td>43.24</td>\n",
       "      <td>8.22</td>\n",
       "    </tr>\n",
       "    <tr>\n",
       "      <th>2</th>\n",
       "      <td>1.25</td>\n",
       "      <td>46.70</td>\n",
       "      <td>12.89</td>\n",
       "    </tr>\n",
       "    <tr>\n",
       "      <th>3</th>\n",
       "      <td>1.54</td>\n",
       "      <td>60.18</td>\n",
       "      <td>22.86</td>\n",
       "    </tr>\n",
       "    <tr>\n",
       "      <th>4</th>\n",
       "      <td>1.58</td>\n",
       "      <td>64.42</td>\n",
       "      <td>23.27</td>\n",
       "    </tr>\n",
       "    <tr>\n",
       "      <th>5</th>\n",
       "      <td>2.15</td>\n",
       "      <td>100.12</td>\n",
       "      <td>27.86</td>\n",
       "    </tr>\n",
       "    <tr>\n",
       "      <th>6</th>\n",
       "      <td>2.42</td>\n",
       "      <td>103.55</td>\n",
       "      <td>43.27</td>\n",
       "    </tr>\n",
       "    <tr>\n",
       "      <th>7</th>\n",
       "      <td>3.36</td>\n",
       "      <td>131.32</td>\n",
       "      <td>47.08</td>\n",
       "    </tr>\n",
       "    <tr>\n",
       "      <th>8</th>\n",
       "      <td>3.40</td>\n",
       "      <td>135.12</td>\n",
       "      <td>50.64</td>\n",
       "    </tr>\n",
       "    <tr>\n",
       "      <th>9</th>\n",
       "      <td>9.65</td>\n",
       "      <td>207.74</td>\n",
       "      <td>127.11</td>\n",
       "    </tr>\n",
       "  </tbody>\n",
       "</table>\n",
       "</div>"
      ],
      "text/plain": [
       "   file_size  exec_time  memory\n",
       "0       0.97      29.99    5.93\n",
       "1       1.12      43.24    8.22\n",
       "2       1.25      46.70   12.89\n",
       "3       1.54      60.18   22.86\n",
       "4       1.58      64.42   23.27\n",
       "5       2.15     100.12   27.86\n",
       "6       2.42     103.55   43.27\n",
       "7       3.36     131.32   47.08\n",
       "8       3.40     135.12   50.64\n",
       "9       9.65     207.74  127.11"
      ]
     },
     "execution_count": 15,
     "metadata": {},
     "output_type": "execute_result"
    }
   ],
   "source": [
    "dados_conhecidos"
   ]
  },
  {
   "cell_type": "markdown",
   "metadata": {},
   "source": [
    "### Bastante dificuldade em aplicar metricas para analise. o conjunto de dados é bastante pequeno"
   ]
  },
  {
   "cell_type": "code",
   "execution_count": 16,
   "metadata": {
    "collapsed": false
   },
   "outputs": [
    {
     "data": {
      "text/html": [
       "<div>\n",
       "<style>\n",
       "    .dataframe thead tr:only-child th {\n",
       "        text-align: right;\n",
       "    }\n",
       "\n",
       "    .dataframe thead th {\n",
       "        text-align: left;\n",
       "    }\n",
       "\n",
       "    .dataframe tbody tr th {\n",
       "        vertical-align: top;\n",
       "    }\n",
       "</style>\n",
       "<table border=\"1\" class=\"dataframe\">\n",
       "  <thead>\n",
       "    <tr style=\"text-align: right;\">\n",
       "      <th></th>\n",
       "      <th>valor_Real</th>\n",
       "      <th>valor_Previsto</th>\n",
       "    </tr>\n",
       "  </thead>\n",
       "  <tbody>\n",
       "    <tr>\n",
       "      <th>0</th>\n",
       "      <td>29.99</td>\n",
       "      <td>57.502879</td>\n",
       "    </tr>\n",
       "    <tr>\n",
       "      <th>1</th>\n",
       "      <td>43.24</td>\n",
       "      <td>60.439896</td>\n",
       "    </tr>\n",
       "    <tr>\n",
       "      <th>2</th>\n",
       "      <td>46.70</td>\n",
       "      <td>62.985310</td>\n",
       "    </tr>\n",
       "    <tr>\n",
       "      <th>3</th>\n",
       "      <td>60.18</td>\n",
       "      <td>68.663543</td>\n",
       "    </tr>\n",
       "    <tr>\n",
       "      <th>4</th>\n",
       "      <td>64.42</td>\n",
       "      <td>69.446748</td>\n",
       "    </tr>\n",
       "    <tr>\n",
       "      <th>5</th>\n",
       "      <td>100.12</td>\n",
       "      <td>80.607413</td>\n",
       "    </tr>\n",
       "    <tr>\n",
       "      <th>6</th>\n",
       "      <td>103.55</td>\n",
       "      <td>85.894043</td>\n",
       "    </tr>\n",
       "    <tr>\n",
       "      <th>7</th>\n",
       "      <td>131.32</td>\n",
       "      <td>104.299350</td>\n",
       "    </tr>\n",
       "    <tr>\n",
       "      <th>8</th>\n",
       "      <td>135.12</td>\n",
       "      <td>105.082554</td>\n",
       "    </tr>\n",
       "    <tr>\n",
       "      <th>9</th>\n",
       "      <td>207.74</td>\n",
       "      <td>227.458264</td>\n",
       "    </tr>\n",
       "  </tbody>\n",
       "</table>\n",
       "</div>"
      ],
      "text/plain": [
       "   valor_Real  valor_Previsto\n",
       "0       29.99       57.502879\n",
       "1       43.24       60.439896\n",
       "2       46.70       62.985310\n",
       "3       60.18       68.663543\n",
       "4       64.42       69.446748\n",
       "5      100.12       80.607413\n",
       "6      103.55       85.894043\n",
       "7      131.32      104.299350\n",
       "8      135.12      105.082554\n",
       "9      207.74      227.458264"
      ]
     },
     "execution_count": 16,
     "metadata": {},
     "output_type": "execute_result"
    }
   ],
   "source": [
    "valor_Real = list((dados_conhecidos['exec_time'] ))\n",
    "valor_Previsto = list(valor_Previsto)\n",
    "dataset = [valor_Real, valor_Previsto]\n",
    "datasetPD = pd.DataFrame(dataset)\n",
    "Relatorio = np.transpose(datasetPD) \n",
    "Relatorio.columns = [\"valor_Real\",\"valor_Previsto\"]\n",
    "Relatorio"
   ]
  },
  {
   "cell_type": "code",
   "execution_count": 17,
   "metadata": {
    "collapsed": false
   },
   "outputs": [
    {
     "data": {
      "image/png": "[encoded data removed]",
      "text/plain": [
       "<matplotlib.figure.Figure at 0x13c0fdcee80>"
      ]
     },
     "metadata": {},
     "output_type": "display_data"
    }
   ],
   "source": [
    "# Definindo o range dos valores de x e y\n",
    "x_range = [Relatorio['valor_Real'].min(),Relatorio['valor_Real'].max()]\n",
    "y_range = [Relatorio['valor_Previsto'].min(),Relatorio['valor_Previsto'].max()]\n",
    "# Plot dos valores de x e y com a média\n",
    "scatter_plot = Relatorio.plot(kind = 'scatter', x = 'valor_Real', y = 'valor_Previsto', xlim = x_range, ylim = y_range)\n",
    "\n",
    "# Cálculo da média\n",
    "meanY = scatter_plot.plot(x_range, [Relatorio['valor_Previsto'].mean(),Relatorio['valor_Previsto'].mean()], '--', color = 'red', linewidth = 1)\n",
    "meanX = scatter_plot.plot([Relatorio['valor_Real'].mean(), Relatorio['valor_Real'].mean()], y_range, '--', color = 'red', linewidth = 1)\n",
    "\n",
    "# Terceira camada do Scatter Plot (linha de regressão)\n",
    "regression_line = scatter_plot.plot(Relatorio['valor_Previsto'], valor_Previsto, '-', color = 'orange', linewidth = 2)"
   ]
  },
  {
   "cell_type": "markdown",
   "metadata": {},
   "source": [
    "## Regressão Linear com o StatsModels"
   ]
  },
  {
   "cell_type": "code",
   "execution_count": 18,
   "metadata": {
    "collapsed": false
   },
   "outputs": [
    {
     "name": "stderr",
     "output_type": "stream",
     "text": [
      "C:\\Anaconda3\\lib\\site-packages\\statsmodels\\compat\\pandas.py:56: FutureWarning: The pandas.core.datetools module is deprecated and will be removed in a future version. Please use the pandas.tseries module instead.\n",
      "  from pandas.core import datetools\n"
     ]
    }
   ],
   "source": [
    "# Importando as funções\n",
    "import statsmodels.api as sm\n",
    "import statsmodels.formula.api as smf # (simula a criação do modelo em linguagem R )"
   ]
  },
  {
   "cell_type": "code",
   "execution_count": 19,
   "metadata": {
    "collapsed": true
   },
   "outputs": [],
   "source": [
    "# Gerando X e Y. Vamos adicionar a constante ao valor de X, gerando uma matrix.\n",
    "y = dados_conhecidos['exec_time']\n",
    "X = dados_conhecidos['file_size']\n",
    "\n",
    "# Esse comando adiciona os valores dos coefientes à variável X (o bias será calculado internamente pela função)\n",
    "#X = sm.add_constant(X)"
   ]
  },
  {
   "cell_type": "code",
   "execution_count": 20,
   "metadata": {
    "collapsed": false
   },
   "outputs": [
    {
     "data": {
      "text/plain": [
       "0    0.97\n",
       "1    1.12\n",
       "2    1.25\n",
       "3    1.54\n",
       "4    1.58\n",
       "Name: file_size, dtype: float64"
      ]
     },
     "execution_count": 20,
     "metadata": {},
     "output_type": "execute_result"
    }
   ],
   "source": [
    "X.head()"
   ]
  },
  {
   "cell_type": "code",
   "execution_count": 21,
   "metadata": {
    "collapsed": false
   },
   "outputs": [
    {
     "name": "stderr",
     "output_type": "stream",
     "text": [
      "C:\\Anaconda3\\lib\\site-packages\\scipy\\stats\\stats.py:1334: UserWarning: kurtosistest only valid for n>=20 ... continuing anyway, n=10\n",
      "  \"anyway, n=%i\" % int(n))\n"
     ]
    },
    {
     "data": {
      "text/html": [
       "<table class=\"simpletable\">\n",
       "<caption>OLS Regression Results</caption>\n",
       "<tr>\n",
       "  <th>Dep. Variable:</th>        <td>exec_time</td>    <th>  R-squared:         </th> <td>   0.905</td>\n",
       "</tr>\n",
       "<tr>\n",
       "  <th>Model:</th>                   <td>OLS</td>       <th>  Adj. R-squared:    </th> <td>   0.894</td>\n",
       "</tr>\n",
       "<tr>\n",
       "  <th>Method:</th>             <td>Least Squares</td>  <th>  F-statistic:       </th> <td>   85.38</td>\n",
       "</tr>\n",
       "<tr>\n",
       "  <th>Date:</th>             <td>Fri, 29 Jun 2018</td> <th>  Prob (F-statistic):</th> <td>6.88e-06</td>\n",
       "</tr>\n",
       "<tr>\n",
       "  <th>Time:</th>                 <td>14:21:32</td>     <th>  Log-Likelihood:    </th> <td> -49.063</td>\n",
       "</tr>\n",
       "<tr>\n",
       "  <th>No. Observations:</th>      <td>    10</td>      <th>  AIC:               </th> <td>   100.1</td>\n",
       "</tr>\n",
       "<tr>\n",
       "  <th>Df Residuals:</th>          <td>     9</td>      <th>  BIC:               </th> <td>   100.4</td>\n",
       "</tr>\n",
       "<tr>\n",
       "  <th>Df Model:</th>              <td>     1</td>      <th>                     </th>     <td> </td>   \n",
       "</tr>\n",
       "<tr>\n",
       "  <th>Covariance Type:</th>      <td>nonrobust</td>    <th>                     </th>     <td> </td>   \n",
       "</tr>\n",
       "</table>\n",
       "<table class=\"simpletable\">\n",
       "<tr>\n",
       "      <td></td>         <th>coef</th>     <th>std err</th>      <th>t</th>      <th>P>|t|</th>  <th>[0.025</th>    <th>0.975]</th>  \n",
       "</tr>\n",
       "<tr>\n",
       "  <th>file_size</th> <td>   27.4032</td> <td>    2.966</td> <td>    9.240</td> <td> 0.000</td> <td>   20.694</td> <td>   34.112</td>\n",
       "</tr>\n",
       "</table>\n",
       "<table class=\"simpletable\">\n",
       "<tr>\n",
       "  <th>Omnibus:</th>       <td>13.019</td> <th>  Durbin-Watson:     </th> <td>   0.962</td>\n",
       "</tr>\n",
       "<tr>\n",
       "  <th>Prob(Omnibus):</th> <td> 0.001</td> <th>  Jarque-Bera (JB):  </th> <td>   6.231</td>\n",
       "</tr>\n",
       "<tr>\n",
       "  <th>Skew:</th>          <td>-1.633</td> <th>  Prob(JB):          </th> <td>  0.0444</td>\n",
       "</tr>\n",
       "<tr>\n",
       "  <th>Kurtosis:</th>      <td> 5.070</td> <th>  Cond. No.          </th> <td>    1.00</td>\n",
       "</tr>\n",
       "</table>"
      ],
      "text/plain": [
       "<class 'statsmodels.iolib.summary.Summary'>\n",
       "\"\"\"\n",
       "                            OLS Regression Results                            \n",
       "==============================================================================\n",
       "Dep. Variable:              exec_time   R-squared:                       0.905\n",
       "Model:                            OLS   Adj. R-squared:                  0.894\n",
       "Method:                 Least Squares   F-statistic:                     85.38\n",
       "Date:                Fri, 29 Jun 2018   Prob (F-statistic):           6.88e-06\n",
       "Time:                        14:21:32   Log-Likelihood:                -49.063\n",
       "No. Observations:                  10   AIC:                             100.1\n",
       "Df Residuals:                       9   BIC:                             100.4\n",
       "Df Model:                           1                                         \n",
       "Covariance Type:            nonrobust                                         \n",
       "==============================================================================\n",
       "                 coef    std err          t      P>|t|      [0.025      0.975]\n",
       "------------------------------------------------------------------------------\n",
       "file_size     27.4032      2.966      9.240      0.000      20.694      34.112\n",
       "==============================================================================\n",
       "Omnibus:                       13.019   Durbin-Watson:                   0.962\n",
       "Prob(Omnibus):                  0.001   Jarque-Bera (JB):                6.231\n",
       "Skew:                          -1.633   Prob(JB):                       0.0444\n",
       "Kurtosis:                       5.070   Cond. No.                         1.00\n",
       "==============================================================================\n",
       "\n",
       "Warnings:\n",
       "[1] Standard Errors assume that the covariance matrix of the errors is correctly specified.\n",
       "\"\"\""
      ]
     },
     "execution_count": 21,
     "metadata": {},
     "output_type": "execute_result"
    }
   ],
   "source": [
    "# Criando um modelo Ordinary Least Squares (outra forma de se referir a regressão linear)\n",
    "modelo_v1 = sm.OLS(y, X)\n",
    "modelo_v2 = modelo_v1.fit()\n",
    "modelo_v2.summary()"
   ]
  },
  {
   "cell_type": "code",
   "execution_count": 22,
   "metadata": {
    "collapsed": false
   },
   "outputs": [
    {
     "name": "stdout",
     "output_type": "stream",
     "text": [
      "file_size    27.403211\n",
      "dtype: float64\n"
     ]
    }
   ],
   "source": [
    "# Imprimindo os Parâmetros\n",
    "print (modelo_v2.params)"
   ]
  },
  {
   "cell_type": "code",
   "execution_count": 23,
   "metadata": {
    "collapsed": false
   },
   "outputs": [
    {
     "data": {
      "text/plain": [
       "0     26.581115\n",
       "1     30.691597\n",
       "2     34.254014\n",
       "3     42.200945\n",
       "4     43.297074\n",
       "5     58.916904\n",
       "6     66.315771\n",
       "7     92.074790\n",
       "8     93.170919\n",
       "9    264.440990\n",
       "dtype: float64"
      ]
     },
     "execution_count": 23,
     "metadata": {},
     "output_type": "execute_result"
    }
   ],
   "source": [
    "# Gerando os valores previstos\n",
    "valores_previstos = modelo_v2.predict(X)\n",
    "valores_previstos"
   ]
  },
  {
   "cell_type": "code",
   "execution_count": 24,
   "metadata": {
    "collapsed": false
   },
   "outputs": [
    {
     "data": {
      "text/html": [
       "<div>\n",
       "<style>\n",
       "    .dataframe thead tr:only-child th {\n",
       "        text-align: right;\n",
       "    }\n",
       "\n",
       "    .dataframe thead th {\n",
       "        text-align: left;\n",
       "    }\n",
       "\n",
       "    .dataframe tbody tr th {\n",
       "        vertical-align: top;\n",
       "    }\n",
       "</style>\n",
       "<table border=\"1\" class=\"dataframe\">\n",
       "  <thead>\n",
       "    <tr style=\"text-align: right;\">\n",
       "      <th></th>\n",
       "      <th>file_size</th>\n",
       "      <th>exec_time</th>\n",
       "      <th>memory</th>\n",
       "    </tr>\n",
       "  </thead>\n",
       "  <tbody>\n",
       "    <tr>\n",
       "      <th>0</th>\n",
       "      <td>0.97</td>\n",
       "      <td>29.99</td>\n",
       "      <td>5.93</td>\n",
       "    </tr>\n",
       "    <tr>\n",
       "      <th>1</th>\n",
       "      <td>1.12</td>\n",
       "      <td>43.24</td>\n",
       "      <td>8.22</td>\n",
       "    </tr>\n",
       "    <tr>\n",
       "      <th>2</th>\n",
       "      <td>1.25</td>\n",
       "      <td>46.70</td>\n",
       "      <td>12.89</td>\n",
       "    </tr>\n",
       "    <tr>\n",
       "      <th>3</th>\n",
       "      <td>1.54</td>\n",
       "      <td>60.18</td>\n",
       "      <td>22.86</td>\n",
       "    </tr>\n",
       "    <tr>\n",
       "      <th>4</th>\n",
       "      <td>1.58</td>\n",
       "      <td>64.42</td>\n",
       "      <td>23.27</td>\n",
       "    </tr>\n",
       "    <tr>\n",
       "      <th>5</th>\n",
       "      <td>2.15</td>\n",
       "      <td>100.12</td>\n",
       "      <td>27.86</td>\n",
       "    </tr>\n",
       "    <tr>\n",
       "      <th>6</th>\n",
       "      <td>2.42</td>\n",
       "      <td>103.55</td>\n",
       "      <td>43.27</td>\n",
       "    </tr>\n",
       "    <tr>\n",
       "      <th>7</th>\n",
       "      <td>3.36</td>\n",
       "      <td>131.32</td>\n",
       "      <td>47.08</td>\n",
       "    </tr>\n",
       "    <tr>\n",
       "      <th>8</th>\n",
       "      <td>3.40</td>\n",
       "      <td>135.12</td>\n",
       "      <td>50.64</td>\n",
       "    </tr>\n",
       "    <tr>\n",
       "      <th>9</th>\n",
       "      <td>9.65</td>\n",
       "      <td>207.74</td>\n",
       "      <td>127.11</td>\n",
       "    </tr>\n",
       "  </tbody>\n",
       "</table>\n",
       "</div>"
      ],
      "text/plain": [
       "   file_size  exec_time  memory\n",
       "0       0.97      29.99    5.93\n",
       "1       1.12      43.24    8.22\n",
       "2       1.25      46.70   12.89\n",
       "3       1.54      60.18   22.86\n",
       "4       1.58      64.42   23.27\n",
       "5       2.15     100.12   27.86\n",
       "6       2.42     103.55   43.27\n",
       "7       3.36     131.32   47.08\n",
       "8       3.40     135.12   50.64\n",
       "9       9.65     207.74  127.11"
      ]
     },
     "execution_count": 24,
     "metadata": {},
     "output_type": "execute_result"
    }
   ],
   "source": [
    "dados_conhecidos"
   ]
  },
  {
   "cell_type": "code",
   "execution_count": 25,
   "metadata": {
    "collapsed": false
   },
   "outputs": [
    {
     "data": {
      "text/html": [
       "<div>\n",
       "<style>\n",
       "    .dataframe thead tr:only-child th {\n",
       "        text-align: right;\n",
       "    }\n",
       "\n",
       "    .dataframe thead th {\n",
       "        text-align: left;\n",
       "    }\n",
       "\n",
       "    .dataframe tbody tr th {\n",
       "        vertical-align: top;\n",
       "    }\n",
       "</style>\n",
       "<table border=\"1\" class=\"dataframe\">\n",
       "  <thead>\n",
       "    <tr style=\"text-align: right;\">\n",
       "      <th></th>\n",
       "      <th>valor_Real</th>\n",
       "      <th>valor_Previsto</th>\n",
       "    </tr>\n",
       "  </thead>\n",
       "  <tbody>\n",
       "    <tr>\n",
       "      <th>0</th>\n",
       "      <td>29.99</td>\n",
       "      <td>26.581115</td>\n",
       "    </tr>\n",
       "    <tr>\n",
       "      <th>1</th>\n",
       "      <td>43.24</td>\n",
       "      <td>30.691597</td>\n",
       "    </tr>\n",
       "    <tr>\n",
       "      <th>2</th>\n",
       "      <td>46.70</td>\n",
       "      <td>34.254014</td>\n",
       "    </tr>\n",
       "    <tr>\n",
       "      <th>3</th>\n",
       "      <td>60.18</td>\n",
       "      <td>42.200945</td>\n",
       "    </tr>\n",
       "    <tr>\n",
       "      <th>4</th>\n",
       "      <td>64.42</td>\n",
       "      <td>43.297074</td>\n",
       "    </tr>\n",
       "    <tr>\n",
       "      <th>5</th>\n",
       "      <td>100.12</td>\n",
       "      <td>58.916904</td>\n",
       "    </tr>\n",
       "    <tr>\n",
       "      <th>6</th>\n",
       "      <td>103.55</td>\n",
       "      <td>66.315771</td>\n",
       "    </tr>\n",
       "    <tr>\n",
       "      <th>7</th>\n",
       "      <td>131.32</td>\n",
       "      <td>92.074790</td>\n",
       "    </tr>\n",
       "    <tr>\n",
       "      <th>8</th>\n",
       "      <td>135.12</td>\n",
       "      <td>93.170919</td>\n",
       "    </tr>\n",
       "    <tr>\n",
       "      <th>9</th>\n",
       "      <td>207.74</td>\n",
       "      <td>264.440990</td>\n",
       "    </tr>\n",
       "  </tbody>\n",
       "</table>\n",
       "</div>"
      ],
      "text/plain": [
       "   valor_Real  valor_Previsto\n",
       "0       29.99       26.581115\n",
       "1       43.24       30.691597\n",
       "2       46.70       34.254014\n",
       "3       60.18       42.200945\n",
       "4       64.42       43.297074\n",
       "5      100.12       58.916904\n",
       "6      103.55       66.315771\n",
       "7      131.32       92.074790\n",
       "8      135.12       93.170919\n",
       "9      207.74      264.440990"
      ]
     },
     "execution_count": 25,
     "metadata": {},
     "output_type": "execute_result"
    }
   ],
   "source": [
    "valor_Real = list((dados_conhecidos['exec_time'] ))\n",
    "valor_Previsto = list(valores_previstos)\n",
    "dataset = [valor_Real, valor_Previsto]\n",
    "datasetPD = pd.DataFrame(dataset)\n",
    "Relatorio = np.transpose(datasetPD) \n",
    "Relatorio.columns = [\"valor_Real\",\"valor_Previsto\"]\n",
    "Relatorio"
   ]
  },
  {
   "cell_type": "code",
   "execution_count": 26,
   "metadata": {
    "collapsed": false
   },
   "outputs": [
    {
     "data": {
      "image/png": "[encoded data removed]",
      "text/plain": [
       "<matplotlib.figure.Figure at 0x13c10558898>"
      ]
     },
     "metadata": {},
     "output_type": "display_data"
    }
   ],
   "source": [
    "# Definindo o range dos valores de x e y\n",
    "x_range = [Relatorio['valor_Real'].min(),Relatorio['valor_Real'].max()]\n",
    "y_range = [Relatorio['valor_Previsto'].min(),Relatorio['valor_Previsto'].max()]\n",
    "# Plot dos valores de x e y com a média\n",
    "scatter_plot = Relatorio.plot(kind = 'scatter', x = 'valor_Real', y = 'valor_Previsto', xlim = x_range, ylim = y_range)\n",
    "\n",
    "# Cálculo da média\n",
    "meanY = scatter_plot.plot(x_range, [Relatorio['valor_Previsto'].mean(),Relatorio['valor_Previsto'].mean()], '--', color = 'red', linewidth = 1)\n",
    "meanX = scatter_plot.plot([Relatorio['valor_Real'].mean(), Relatorio['valor_Real'].mean()], y_range, '--', color = 'red', linewidth = 1)\n",
    "\n",
    "# Terceira camada do Scatter Plot (linha de regressão)\n",
    "regression_line = scatter_plot.plot(Relatorio['valor_Previsto'], valor_Previsto, '-', color = 'orange', linewidth = 2)"
   ]
  },
  {
   "cell_type": "markdown",
   "metadata": {},
   "source": [
    "### Após realizarmos algumas analises e demonstrando algumas formas de se trabalhar com Regressão, iremos utilizar o Scitit learn para realizar as previsões solicitadas"
   ]
  },
  {
   "cell_type": "markdown",
   "metadata": {},
   "source": [
    "### Considerando que apenas possuimos um dataset bastante pequeno, apenas com 10 resultados, iremos utilizar para treino, sem realizar procedimento de teste, e aplicaremos o modelo diretamente nos dados do segundo dataset. "
   ]
  },
  {
   "cell_type": "code",
   "execution_count": 27,
   "metadata": {
    "collapsed": true
   },
   "outputs": [],
   "source": [
    "# Define os valores de x e y\n",
    "num_observ = len(dados_conhecidos)\n",
    "X = dados_conhecidos['file_size'].values.reshape((num_observ, 1)) # X deve sempre ser uma matriz e nunca um vetor\n",
    "y = dados_conhecidos['exec_time'].values # y pode ser um vetor\n",
    "y2 = dados_conhecidos['memory'].values"
   ]
  },
  {
   "cell_type": "code",
   "execution_count": 28,
   "metadata": {
    "collapsed": false
   },
   "outputs": [
    {
     "data": {
      "text/plain": [
       "LinearRegression(copy_X=True, fit_intercept=True, n_jobs=1, normalize=False)"
      ]
     },
     "execution_count": 28,
     "metadata": {},
     "output_type": "execute_result"
    }
   ],
   "source": [
    "# Aplica o modelo - fit()\n",
    "modelo.fit(X,y)\n",
    "modelo2.fit(X,y2)"
   ]
  },
  {
   "cell_type": "code",
   "execution_count": 29,
   "metadata": {
    "collapsed": false
   },
   "outputs": [
    {
     "data": {
      "text/html": [
       "<div>\n",
       "<style>\n",
       "    .dataframe thead tr:only-child th {\n",
       "        text-align: right;\n",
       "    }\n",
       "\n",
       "    .dataframe thead th {\n",
       "        text-align: left;\n",
       "    }\n",
       "\n",
       "    .dataframe tbody tr th {\n",
       "        vertical-align: top;\n",
       "    }\n",
       "</style>\n",
       "<table border=\"1\" class=\"dataframe\">\n",
       "  <thead>\n",
       "    <tr style=\"text-align: right;\">\n",
       "      <th></th>\n",
       "      <th>file_size</th>\n",
       "      <th>exec_time</th>\n",
       "      <th>memory</th>\n",
       "    </tr>\n",
       "  </thead>\n",
       "  <tbody>\n",
       "    <tr>\n",
       "      <th>0</th>\n",
       "      <td>4.18</td>\n",
       "      <td>NaN</td>\n",
       "      <td>NaN</td>\n",
       "    </tr>\n",
       "    <tr>\n",
       "      <th>1</th>\n",
       "      <td>1.52</td>\n",
       "      <td>NaN</td>\n",
       "      <td>NaN</td>\n",
       "    </tr>\n",
       "    <tr>\n",
       "      <th>2</th>\n",
       "      <td>2.10</td>\n",
       "      <td>NaN</td>\n",
       "      <td>NaN</td>\n",
       "    </tr>\n",
       "    <tr>\n",
       "      <th>3</th>\n",
       "      <td>1.13</td>\n",
       "      <td>NaN</td>\n",
       "      <td>NaN</td>\n",
       "    </tr>\n",
       "    <tr>\n",
       "      <th>4</th>\n",
       "      <td>1.86</td>\n",
       "      <td>NaN</td>\n",
       "      <td>NaN</td>\n",
       "    </tr>\n",
       "  </tbody>\n",
       "</table>\n",
       "</div>"
      ],
      "text/plain": [
       "   file_size  exec_time  memory\n",
       "0       4.18        NaN     NaN\n",
       "1       1.52        NaN     NaN\n",
       "2       2.10        NaN     NaN\n",
       "3       1.13        NaN     NaN\n",
       "4       1.86        NaN     NaN"
      ]
     },
     "execution_count": 29,
     "metadata": {},
     "output_type": "execute_result"
    }
   ],
   "source": [
    "dados_projetar.head()"
   ]
  },
  {
   "cell_type": "code",
   "execution_count": 30,
   "metadata": {
    "collapsed": true
   },
   "outputs": [],
   "source": [
    "X_projetar = dados_projetar['file_size']\n",
    "#X_projetar = sm.add_constant(X_projetar)"
   ]
  },
  {
   "cell_type": "code",
   "execution_count": 31,
   "metadata": {
    "collapsed": false
   },
   "outputs": [
    {
     "name": "stdout",
     "output_type": "stream",
     "text": [
      "[ 120.35504298]\n",
      "[ 56.41162264]\n"
     ]
    }
   ],
   "source": [
    "valor_Previsto = modelo.predict(4.18)\n",
    "valor_Previsto2 = modelo2.predict(4.18)\n",
    "print (valor_Previsto)\n",
    "print (valor_Previsto2)"
   ]
  },
  {
   "cell_type": "code",
   "execution_count": 32,
   "metadata": {
    "collapsed": false
   },
   "outputs": [
    {
     "data": {
      "text/html": [
       "<div>\n",
       "<style>\n",
       "    .dataframe thead tr:only-child th {\n",
       "        text-align: right;\n",
       "    }\n",
       "\n",
       "    .dataframe thead th {\n",
       "        text-align: left;\n",
       "    }\n",
       "\n",
       "    .dataframe tbody tr th {\n",
       "        vertical-align: top;\n",
       "    }\n",
       "</style>\n",
       "<table border=\"1\" class=\"dataframe\">\n",
       "  <thead>\n",
       "    <tr style=\"text-align: right;\">\n",
       "      <th></th>\n",
       "      <th>file_size</th>\n",
       "      <th>exec_time</th>\n",
       "      <th>memory</th>\n",
       "    </tr>\n",
       "  </thead>\n",
       "  <tbody>\n",
       "    <tr>\n",
       "      <th>0</th>\n",
       "      <td>0.97</td>\n",
       "      <td>29.99</td>\n",
       "      <td>5.93</td>\n",
       "    </tr>\n",
       "    <tr>\n",
       "      <th>1</th>\n",
       "      <td>1.12</td>\n",
       "      <td>43.24</td>\n",
       "      <td>8.22</td>\n",
       "    </tr>\n",
       "    <tr>\n",
       "      <th>2</th>\n",
       "      <td>1.25</td>\n",
       "      <td>46.70</td>\n",
       "      <td>12.89</td>\n",
       "    </tr>\n",
       "    <tr>\n",
       "      <th>3</th>\n",
       "      <td>1.54</td>\n",
       "      <td>60.18</td>\n",
       "      <td>22.86</td>\n",
       "    </tr>\n",
       "    <tr>\n",
       "      <th>4</th>\n",
       "      <td>1.58</td>\n",
       "      <td>64.42</td>\n",
       "      <td>23.27</td>\n",
       "    </tr>\n",
       "    <tr>\n",
       "      <th>5</th>\n",
       "      <td>2.15</td>\n",
       "      <td>100.12</td>\n",
       "      <td>27.86</td>\n",
       "    </tr>\n",
       "    <tr>\n",
       "      <th>6</th>\n",
       "      <td>2.42</td>\n",
       "      <td>103.55</td>\n",
       "      <td>43.27</td>\n",
       "    </tr>\n",
       "    <tr>\n",
       "      <th>7</th>\n",
       "      <td>3.36</td>\n",
       "      <td>131.32</td>\n",
       "      <td>47.08</td>\n",
       "    </tr>\n",
       "    <tr>\n",
       "      <th>8</th>\n",
       "      <td>3.40</td>\n",
       "      <td>135.12</td>\n",
       "      <td>50.64</td>\n",
       "    </tr>\n",
       "    <tr>\n",
       "      <th>9</th>\n",
       "      <td>9.65</td>\n",
       "      <td>207.74</td>\n",
       "      <td>127.11</td>\n",
       "    </tr>\n",
       "  </tbody>\n",
       "</table>\n",
       "</div>"
      ],
      "text/plain": [
       "   file_size  exec_time  memory\n",
       "0       0.97      29.99    5.93\n",
       "1       1.12      43.24    8.22\n",
       "2       1.25      46.70   12.89\n",
       "3       1.54      60.18   22.86\n",
       "4       1.58      64.42   23.27\n",
       "5       2.15     100.12   27.86\n",
       "6       2.42     103.55   43.27\n",
       "7       3.36     131.32   47.08\n",
       "8       3.40     135.12   50.64\n",
       "9       9.65     207.74  127.11"
      ]
     },
     "execution_count": 32,
     "metadata": {},
     "output_type": "execute_result"
    }
   ],
   "source": [
    "dados_conhecidos"
   ]
  },
  {
   "cell_type": "code",
   "execution_count": 33,
   "metadata": {
    "collapsed": false
   },
   "outputs": [
    {
     "data": {
      "text/html": [
       "<div>\n",
       "<style>\n",
       "    .dataframe thead tr:only-child th {\n",
       "        text-align: right;\n",
       "    }\n",
       "\n",
       "    .dataframe thead th {\n",
       "        text-align: left;\n",
       "    }\n",
       "\n",
       "    .dataframe tbody tr th {\n",
       "        vertical-align: top;\n",
       "    }\n",
       "</style>\n",
       "<table border=\"1\" class=\"dataframe\">\n",
       "  <thead>\n",
       "    <tr style=\"text-align: right;\">\n",
       "      <th></th>\n",
       "      <th>file_size</th>\n",
       "      <th>exec_time</th>\n",
       "      <th>memory</th>\n",
       "    </tr>\n",
       "  </thead>\n",
       "  <tbody>\n",
       "    <tr>\n",
       "      <th>0</th>\n",
       "      <td>4.18</td>\n",
       "      <td>120.355043</td>\n",
       "      <td>56.411623</td>\n",
       "    </tr>\n",
       "    <tr>\n",
       "      <th>1</th>\n",
       "      <td>1.52</td>\n",
       "      <td>68.271941</td>\n",
       "      <td>20.293004</td>\n",
       "    </tr>\n",
       "    <tr>\n",
       "      <th>2</th>\n",
       "      <td>2.10</td>\n",
       "      <td>79.628407</td>\n",
       "      <td>28.168492</td>\n",
       "    </tr>\n",
       "    <tr>\n",
       "      <th>3</th>\n",
       "      <td>1.13</td>\n",
       "      <td>60.635697</td>\n",
       "      <td>14.997417</td>\n",
       "    </tr>\n",
       "    <tr>\n",
       "      <th>4</th>\n",
       "      <td>1.86</td>\n",
       "      <td>74.929180</td>\n",
       "      <td>24.909670</td>\n",
       "    </tr>\n",
       "    <tr>\n",
       "      <th>5</th>\n",
       "      <td>1.82</td>\n",
       "      <td>74.145975</td>\n",
       "      <td>24.366533</td>\n",
       "    </tr>\n",
       "    <tr>\n",
       "      <th>6</th>\n",
       "      <td>1.73</td>\n",
       "      <td>72.383765</td>\n",
       "      <td>23.144474</td>\n",
       "    </tr>\n",
       "    <tr>\n",
       "      <th>7</th>\n",
       "      <td>1.21</td>\n",
       "      <td>62.202106</td>\n",
       "      <td>16.083691</td>\n",
       "    </tr>\n",
       "    <tr>\n",
       "      <th>8</th>\n",
       "      <td>0.85</td>\n",
       "      <td>55.153265</td>\n",
       "      <td>11.195457</td>\n",
       "    </tr>\n",
       "    <tr>\n",
       "      <th>9</th>\n",
       "      <td>1.22</td>\n",
       "      <td>62.397907</td>\n",
       "      <td>16.219476</td>\n",
       "    </tr>\n",
       "    <tr>\n",
       "      <th>10</th>\n",
       "      <td>3.48</td>\n",
       "      <td>106.648964</td>\n",
       "      <td>46.906723</td>\n",
       "    </tr>\n",
       "    <tr>\n",
       "      <th>11</th>\n",
       "      <td>2.66</td>\n",
       "      <td>90.593270</td>\n",
       "      <td>35.772412</td>\n",
       "    </tr>\n",
       "    <tr>\n",
       "      <th>12</th>\n",
       "      <td>1.36</td>\n",
       "      <td>65.139123</td>\n",
       "      <td>18.120456</td>\n",
       "    </tr>\n",
       "    <tr>\n",
       "      <th>13</th>\n",
       "      <td>2.27</td>\n",
       "      <td>82.957026</td>\n",
       "      <td>30.476825</td>\n",
       "    </tr>\n",
       "    <tr>\n",
       "      <th>14</th>\n",
       "      <td>2.10</td>\n",
       "      <td>79.628407</td>\n",
       "      <td>28.168492</td>\n",
       "    </tr>\n",
       "    <tr>\n",
       "      <th>15</th>\n",
       "      <td>1.36</td>\n",
       "      <td>65.139123</td>\n",
       "      <td>18.120456</td>\n",
       "    </tr>\n",
       "    <tr>\n",
       "      <th>16</th>\n",
       "      <td>2.70</td>\n",
       "      <td>91.376475</td>\n",
       "      <td>36.315549</td>\n",
       "    </tr>\n",
       "    <tr>\n",
       "      <th>17</th>\n",
       "      <td>1.59</td>\n",
       "      <td>69.642549</td>\n",
       "      <td>21.243494</td>\n",
       "    </tr>\n",
       "    <tr>\n",
       "      <th>18</th>\n",
       "      <td>1.91</td>\n",
       "      <td>75.908185</td>\n",
       "      <td>25.588591</td>\n",
       "    </tr>\n",
       "    <tr>\n",
       "      <th>19</th>\n",
       "      <td>1.78</td>\n",
       "      <td>73.362771</td>\n",
       "      <td>23.823395</td>\n",
       "    </tr>\n",
       "    <tr>\n",
       "      <th>20</th>\n",
       "      <td>1.36</td>\n",
       "      <td>65.139123</td>\n",
       "      <td>18.120456</td>\n",
       "    </tr>\n",
       "    <tr>\n",
       "      <th>21</th>\n",
       "      <td>4.81</td>\n",
       "      <td>132.690514</td>\n",
       "      <td>64.966032</td>\n",
       "    </tr>\n",
       "    <tr>\n",
       "      <th>22</th>\n",
       "      <td>2.13</td>\n",
       "      <td>80.215810</td>\n",
       "      <td>28.575845</td>\n",
       "    </tr>\n",
       "    <tr>\n",
       "      <th>23</th>\n",
       "      <td>0.46</td>\n",
       "      <td>47.517021</td>\n",
       "      <td>5.899870</td>\n",
       "    </tr>\n",
       "    <tr>\n",
       "      <th>24</th>\n",
       "      <td>2.07</td>\n",
       "      <td>79.041004</td>\n",
       "      <td>27.761140</td>\n",
       "    </tr>\n",
       "    <tr>\n",
       "      <th>25</th>\n",
       "      <td>1.29</td>\n",
       "      <td>63.768515</td>\n",
       "      <td>17.169966</td>\n",
       "    </tr>\n",
       "    <tr>\n",
       "      <th>26</th>\n",
       "      <td>2.00</td>\n",
       "      <td>77.670396</td>\n",
       "      <td>26.810650</td>\n",
       "    </tr>\n",
       "    <tr>\n",
       "      <th>27</th>\n",
       "      <td>1.97</td>\n",
       "      <td>77.082992</td>\n",
       "      <td>26.403297</td>\n",
       "    </tr>\n",
       "    <tr>\n",
       "      <th>28</th>\n",
       "      <td>1.14</td>\n",
       "      <td>60.831498</td>\n",
       "      <td>15.133201</td>\n",
       "    </tr>\n",
       "    <tr>\n",
       "      <th>29</th>\n",
       "      <td>2.52</td>\n",
       "      <td>87.852055</td>\n",
       "      <td>33.871432</td>\n",
       "    </tr>\n",
       "    <tr>\n",
       "      <th>...</th>\n",
       "      <td>...</td>\n",
       "      <td>...</td>\n",
       "      <td>...</td>\n",
       "    </tr>\n",
       "    <tr>\n",
       "      <th>60</th>\n",
       "      <td>0.13</td>\n",
       "      <td>41.055583</td>\n",
       "      <td>1.418989</td>\n",
       "    </tr>\n",
       "    <tr>\n",
       "      <th>61</th>\n",
       "      <td>0.64</td>\n",
       "      <td>51.041441</td>\n",
       "      <td>8.343987</td>\n",
       "    </tr>\n",
       "    <tr>\n",
       "      <th>62</th>\n",
       "      <td>0.95</td>\n",
       "      <td>57.111276</td>\n",
       "      <td>12.553300</td>\n",
       "    </tr>\n",
       "    <tr>\n",
       "      <th>63</th>\n",
       "      <td>0.63</td>\n",
       "      <td>50.845640</td>\n",
       "      <td>8.208203</td>\n",
       "    </tr>\n",
       "    <tr>\n",
       "      <th>64</th>\n",
       "      <td>2.04</td>\n",
       "      <td>78.453600</td>\n",
       "      <td>27.353787</td>\n",
       "    </tr>\n",
       "    <tr>\n",
       "      <th>65</th>\n",
       "      <td>0.35</td>\n",
       "      <td>45.363208</td>\n",
       "      <td>4.406243</td>\n",
       "    </tr>\n",
       "    <tr>\n",
       "      <th>66</th>\n",
       "      <td>0.92</td>\n",
       "      <td>56.523873</td>\n",
       "      <td>12.145947</td>\n",
       "    </tr>\n",
       "    <tr>\n",
       "      <th>67</th>\n",
       "      <td>1.20</td>\n",
       "      <td>62.006305</td>\n",
       "      <td>15.947907</td>\n",
       "    </tr>\n",
       "    <tr>\n",
       "      <th>68</th>\n",
       "      <td>1.40</td>\n",
       "      <td>65.922327</td>\n",
       "      <td>18.663593</td>\n",
       "    </tr>\n",
       "    <tr>\n",
       "      <th>69</th>\n",
       "      <td>0.99</td>\n",
       "      <td>57.894481</td>\n",
       "      <td>13.096437</td>\n",
       "    </tr>\n",
       "    <tr>\n",
       "      <th>70</th>\n",
       "      <td>1.11</td>\n",
       "      <td>60.244095</td>\n",
       "      <td>14.725849</td>\n",
       "    </tr>\n",
       "    <tr>\n",
       "      <th>71</th>\n",
       "      <td>0.71</td>\n",
       "      <td>52.412049</td>\n",
       "      <td>9.294477</td>\n",
       "    </tr>\n",
       "    <tr>\n",
       "      <th>72</th>\n",
       "      <td>1.12</td>\n",
       "      <td>60.439896</td>\n",
       "      <td>14.861633</td>\n",
       "    </tr>\n",
       "    <tr>\n",
       "      <th>73</th>\n",
       "      <td>0.92</td>\n",
       "      <td>56.523873</td>\n",
       "      <td>12.145947</td>\n",
       "    </tr>\n",
       "    <tr>\n",
       "      <th>74</th>\n",
       "      <td>0.66</td>\n",
       "      <td>51.433043</td>\n",
       "      <td>8.615556</td>\n",
       "    </tr>\n",
       "    <tr>\n",
       "      <th>75</th>\n",
       "      <td>3.10</td>\n",
       "      <td>99.208520</td>\n",
       "      <td>41.746920</td>\n",
       "    </tr>\n",
       "    <tr>\n",
       "      <th>76</th>\n",
       "      <td>1.06</td>\n",
       "      <td>59.265089</td>\n",
       "      <td>14.046927</td>\n",
       "    </tr>\n",
       "    <tr>\n",
       "      <th>77</th>\n",
       "      <td>0.37</td>\n",
       "      <td>45.754811</td>\n",
       "      <td>4.677812</td>\n",
       "    </tr>\n",
       "    <tr>\n",
       "      <th>78</th>\n",
       "      <td>0.46</td>\n",
       "      <td>47.517021</td>\n",
       "      <td>5.899870</td>\n",
       "    </tr>\n",
       "    <tr>\n",
       "      <th>79</th>\n",
       "      <td>0.14</td>\n",
       "      <td>41.251384</td>\n",
       "      <td>1.554773</td>\n",
       "    </tr>\n",
       "    <tr>\n",
       "      <th>80</th>\n",
       "      <td>0.18</td>\n",
       "      <td>42.034589</td>\n",
       "      <td>2.097911</td>\n",
       "    </tr>\n",
       "    <tr>\n",
       "      <th>81</th>\n",
       "      <td>0.44</td>\n",
       "      <td>47.125419</td>\n",
       "      <td>5.628302</td>\n",
       "    </tr>\n",
       "    <tr>\n",
       "      <th>82</th>\n",
       "      <td>0.61</td>\n",
       "      <td>50.454038</td>\n",
       "      <td>7.936635</td>\n",
       "    </tr>\n",
       "    <tr>\n",
       "      <th>83</th>\n",
       "      <td>1.00</td>\n",
       "      <td>58.090282</td>\n",
       "      <td>13.232222</td>\n",
       "    </tr>\n",
       "    <tr>\n",
       "      <th>84</th>\n",
       "      <td>1.03</td>\n",
       "      <td>58.677685</td>\n",
       "      <td>13.639574</td>\n",
       "    </tr>\n",
       "    <tr>\n",
       "      <th>85</th>\n",
       "      <td>0.81</td>\n",
       "      <td>54.370061</td>\n",
       "      <td>10.652320</td>\n",
       "    </tr>\n",
       "    <tr>\n",
       "      <th>86</th>\n",
       "      <td>2.40</td>\n",
       "      <td>85.502441</td>\n",
       "      <td>32.242021</td>\n",
       "    </tr>\n",
       "    <tr>\n",
       "      <th>87</th>\n",
       "      <td>0.60</td>\n",
       "      <td>50.258237</td>\n",
       "      <td>7.800850</td>\n",
       "    </tr>\n",
       "    <tr>\n",
       "      <th>88</th>\n",
       "      <td>0.85</td>\n",
       "      <td>55.153265</td>\n",
       "      <td>11.195457</td>\n",
       "    </tr>\n",
       "    <tr>\n",
       "      <th>89</th>\n",
       "      <td>0.90</td>\n",
       "      <td>56.132271</td>\n",
       "      <td>11.874379</td>\n",
       "    </tr>\n",
       "  </tbody>\n",
       "</table>\n",
       "<p>90 rows × 3 columns</p>\n",
       "</div>"
      ],
      "text/plain": [
       "    file_size   exec_time     memory\n",
       "0        4.18  120.355043  56.411623\n",
       "1        1.52   68.271941  20.293004\n",
       "2        2.10   79.628407  28.168492\n",
       "3        1.13   60.635697  14.997417\n",
       "4        1.86   74.929180  24.909670\n",
       "5        1.82   74.145975  24.366533\n",
       "6        1.73   72.383765  23.144474\n",
       "7        1.21   62.202106  16.083691\n",
       "8        0.85   55.153265  11.195457\n",
       "9        1.22   62.397907  16.219476\n",
       "10       3.48  106.648964  46.906723\n",
       "11       2.66   90.593270  35.772412\n",
       "12       1.36   65.139123  18.120456\n",
       "13       2.27   82.957026  30.476825\n",
       "14       2.10   79.628407  28.168492\n",
       "15       1.36   65.139123  18.120456\n",
       "16       2.70   91.376475  36.315549\n",
       "17       1.59   69.642549  21.243494\n",
       "18       1.91   75.908185  25.588591\n",
       "19       1.78   73.362771  23.823395\n",
       "20       1.36   65.139123  18.120456\n",
       "21       4.81  132.690514  64.966032\n",
       "22       2.13   80.215810  28.575845\n",
       "23       0.46   47.517021   5.899870\n",
       "24       2.07   79.041004  27.761140\n",
       "25       1.29   63.768515  17.169966\n",
       "26       2.00   77.670396  26.810650\n",
       "27       1.97   77.082992  26.403297\n",
       "28       1.14   60.831498  15.133201\n",
       "29       2.52   87.852055  33.871432\n",
       "..        ...         ...        ...\n",
       "60       0.13   41.055583   1.418989\n",
       "61       0.64   51.041441   8.343987\n",
       "62       0.95   57.111276  12.553300\n",
       "63       0.63   50.845640   8.208203\n",
       "64       2.04   78.453600  27.353787\n",
       "65       0.35   45.363208   4.406243\n",
       "66       0.92   56.523873  12.145947\n",
       "67       1.20   62.006305  15.947907\n",
       "68       1.40   65.922327  18.663593\n",
       "69       0.99   57.894481  13.096437\n",
       "70       1.11   60.244095  14.725849\n",
       "71       0.71   52.412049   9.294477\n",
       "72       1.12   60.439896  14.861633\n",
       "73       0.92   56.523873  12.145947\n",
       "74       0.66   51.433043   8.615556\n",
       "75       3.10   99.208520  41.746920\n",
       "76       1.06   59.265089  14.046927\n",
       "77       0.37   45.754811   4.677812\n",
       "78       0.46   47.517021   5.899870\n",
       "79       0.14   41.251384   1.554773\n",
       "80       0.18   42.034589   2.097911\n",
       "81       0.44   47.125419   5.628302\n",
       "82       0.61   50.454038   7.936635\n",
       "83       1.00   58.090282  13.232222\n",
       "84       1.03   58.677685  13.639574\n",
       "85       0.81   54.370061  10.652320\n",
       "86       2.40   85.502441  32.242021\n",
       "87       0.60   50.258237   7.800850\n",
       "88       0.85   55.153265  11.195457\n",
       "89       0.90   56.132271  11.874379\n",
       "\n",
       "[90 rows x 3 columns]"
      ]
     },
     "execution_count": 33,
     "metadata": {},
     "output_type": "execute_result"
    }
   ],
   "source": [
    "exec_time = []\n",
    "file_size = []\n",
    "memory = []\n",
    "tabela =[file_size,exec_time, memory]\n",
    "for i in X_projetar:\n",
    "   # print(i,\" - \", modelo.predict(i))\n",
    "    valorPredito_exec_time = modelo.predict(i)[0]\n",
    "    valorPredito_memory = modelo2.predict(i)[0]\n",
    "    file_size.append(i)\n",
    "    exec_time.append(valorPredito_exec_time)\n",
    "    memory.append(valorPredito_memory)\n",
    "tabela = pd.DataFrame(tabela)\n",
    "tabela = np.transpose(tabela)\n",
    "tabela.columns = [\"file_size\", \"exec_time\",\"memory\"]\n",
    "tabela"
   ]
  },
  {
   "cell_type": "code",
   "execution_count": 37,
   "metadata": {
    "collapsed": false
   },
   "outputs": [
    {
     "data": {
      "image/png": "[encoded data removed]",
      "text/plain": [
       "<matplotlib.figure.Figure at 0x13c105cbcf8>"
      ]
     },
     "metadata": {},
     "output_type": "display_data"
    }
   ],
   "source": [
    "ax = sea.regplot(x=\"file_size\", y=\"exec_time\", data=tabela)"
   ]
  },
  {
   "cell_type": "code",
   "execution_count": 39,
   "metadata": {
    "collapsed": false
   },
   "outputs": [
    {
     "data": {
      "image/png": "[encoded data removed]",
      "text/plain": [
       "<matplotlib.figure.Figure at 0x13c10748f28>"
      ]
     },
     "metadata": {},
     "output_type": "display_data"
    }
   ],
   "source": [
    "ax2 = sea.regplot(x=\"file_size\", y=\"exec_time\", data=tabela)"
   ]
  },
  {
   "cell_type": "code",
   "execution_count": 40,
   "metadata": {
    "collapsed": false
   },
   "outputs": [
    {
     "data": {
      "image/png": "[encoded data removed]",
      "text/plain": [
       "<matplotlib.figure.Figure at 0x13c0fe056a0>"
      ]
     },
     "metadata": {},
     "output_type": "display_data"
    }
   ],
   "source": [
    "ax3 = sea.regplot(x=\"memory\", y=\"exec_time\", data=tabela)"
   ]
  },
  {
   "cell_type": "code",
   "execution_count": null,
   "metadata": {
    "collapsed": true
   },
   "outputs": [],
   "source": []
  }
 ],
 "metadata": {
  "kernelspec": {
   "display_name": "Python 3",
   "language": "python",
   "name": "python3"
  },
  "language_info": {
   "codemirror_mode": {
    "name": "ipython",
    "version": 3
   },
   "file_extension": ".py",
   "mimetype": "text/x-python",
   "name": "python",
   "nbconvert_exporter": "python",
   "pygments_lexer": "ipython3",
   "version": "3.6.0"
  }
 },
 "nbformat": 4,
 "nbformat_minor": 2
}
